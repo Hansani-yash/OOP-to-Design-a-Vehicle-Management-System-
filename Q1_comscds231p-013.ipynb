{
 "cells": [
  {
   "cell_type": "code",
   "execution_count": 1,
   "id": "e29dcd4a",
   "metadata": {},
   "outputs": [],
   "source": [
    "class Vehicle:\n",
    "    def __init__(self,make,model,year,price):\n",
    "        self.make = make\n",
    "        self.model = model\n",
    "        self.year = year\n",
    "        self.price = price\n",
    "\n",
    "# create 3 sub classes for Vehicle to demonstrate the property of inheritance        \n",
    "class Car(Vehicle): # subclass Car inherites from Vehicle class\n",
    "    pass\n",
    "    \n",
    "class MotorCycle(Vehicle): # subclass MotorCycle inherites from Vehicle class\n",
    "    pass\n",
    "    \n",
    "class Truck(Vehicle):# subclass Truck inherites from Vehicle class\n",
    "    pass"
   ]
  },
  {
   "cell_type": "code",
   "execution_count": 2,
   "id": "4f5c5c8a",
   "metadata": {},
   "outputs": [
    {
     "name": "stdout",
     "output_type": "stream",
     "text": [
      "Make: Honda  Model: Vezel  Year: 2018  Price: 13Mn\n",
      "Make: Harley-Davidson  Model: Sportster  Year: 2021  Price: 10Mn\n",
      "Make: Ford  Model: F-150  Year: 2022  Price: 20Mn\n"
     ]
    }
   ],
   "source": [
    "class Vehicle:\n",
    "    def __init__(self,make,model,year,price):\n",
    "        self.make = make\n",
    "        self.model = model\n",
    "        self.year = year\n",
    "        self.price = price\n",
    "    def display_info(self): # Display all attributes of a vehicle\n",
    "        print(\"Make: {}  Model: {}  Year: {}  Price: {}\".format(self.make,self.model,self.year,self.price))\n",
    "        \n",
    "class Car(Vehicle):\n",
    "    pass\n",
    "    \n",
    "class MotorCycle(Vehicle):\n",
    "    pass\n",
    "    \n",
    "class Truck(Vehicle):\n",
    "    pass\n",
    "\n",
    "car = Car('Honda', 'Vezel', '2018','13Mn') \n",
    "motorcycle = MotorCycle('Harley-Davidson', 'Sportster', '2021', '10Mn')\n",
    "truck = Truck('Ford', 'F-150', '2022', '20Mn')\n",
    "car.display_info()\n",
    "motorcycle.display_info()\n",
    "truck.display_info()"
   ]
  },
  {
   "cell_type": "code",
   "execution_count": 3,
   "id": "d46cba0d",
   "metadata": {},
   "outputs": [
    {
     "name": "stdout",
     "output_type": "stream",
     "text": [
      "Make: Honda  Model: Vezel\n",
      "2018\n",
      "13 million\n"
     ]
    }
   ],
   "source": [
    "class Vehicle:\n",
    "    def __init__(self,make,model):\n",
    "        self.make = make\n",
    "        self.model = model\n",
    "    def setYear(self,year):#Apply Setter method for year\n",
    "        self.year = year\n",
    "    def setPrice(self,price):#Apply Getter method for year\n",
    "        self.price = price\n",
    "    def getYear(self): #Apply Setter method for price\n",
    "        return self.year\n",
    "    def getPrice(self): #Apply Getter method for price \n",
    "        return self.price\n",
    "    def display_info(self):\n",
    "        print(\"Make: {}  Model: {}\".format(self.make,self.model))\n",
    "        \n",
    "class Car(Vehicle):\n",
    "    pass\n",
    "class MotorCycle(Vehicle):\n",
    "    pass\n",
    "    \n",
    "class Truck(Vehicle):\n",
    "    pass\n",
    "\n",
    "car=Car('Honda', 'Vezel')\n",
    "car.display_info()\n",
    "car.setYear(\"2018\")# can't direct accessible out side the class \n",
    "car.setPrice(\"13 million\")\n",
    "print(car.getYear())\n",
    "print(car.getPrice())"
   ]
  },
  {
   "cell_type": "code",
   "execution_count": 4,
   "id": "fe063b29",
   "metadata": {},
   "outputs": [
    {
     "name": "stdout",
     "output_type": "stream",
     "text": [
      "Purr\n",
      "Vroom Vroom!\n",
      "Vroom Vroom!\n"
     ]
    }
   ],
   "source": [
    "class Vehicle():\n",
    "    def __init__(self,make,model,year,price):\n",
    "        self.make = make\n",
    "        self.model = model\n",
    "        self.year = year\n",
    "        self.price = price\n",
    "    def vehicle_sound(self): # Generic sound for vehicles\n",
    "        print(\"Vroom Vroom!\")\n",
    "\n",
    "class Car(Vehicle):\n",
    "    def vehicle_sound(self): # Override vehicle sound in Car class\n",
    "        print(\"Purr\")\n",
    "        \n",
    "class MotorCycle(Vehicle): # Override vehicle sound in MotorCycle class\n",
    "    def vehicle_sound(self):\n",
    "        print(\"Vroom Vroom!\")\n",
    "        \n",
    "class Truck(Vehicle):\n",
    "    pass\n",
    "\n",
    "# Create instances of the classes\n",
    "car = Car('Honda', 'Vezel', '2018', '13Mn')\n",
    "motorcycle = MotorCycle('Harley-Davidson', 'Sportster', '2021', '10Mn')\n",
    "truck = Truck('Ford', 'F-150', '2022', '20Mn')\n",
    "\n",
    "car.vehicle_sound()\n",
    "motorcycle.vehicle_sound()\n",
    "truck.vehicle_sound()"
   ]
  },
  {
   "cell_type": "code",
   "execution_count": 5,
   "id": "4e494cae",
   "metadata": {},
   "outputs": [
    {
     "name": "stdout",
     "output_type": "stream",
     "text": [
      "Make: Honda  Model: Vezel  Year: 2018  Price: 13Mn\n",
      "Number of Doors: 4\n"
     ]
    }
   ],
   "source": [
    "class Vehicle():\n",
    "    def __init__ (self,make,model,year,price):\n",
    "        \n",
    "        self.make = make\n",
    "        self.model = model\n",
    "        self.year = year\n",
    "        self.price = price\n",
    "   \n",
    "    def display_info(self):\n",
    "        print(\"Make: {}  Model: {}  Year: {}  Price: {}\".format(self.make,self.model,self.year,self.price))\n",
    "\n",
    "class Car(Vehicle):\n",
    "    def __init__ (self,make,model,year,price,num_doors):\n",
    "        super().__init__(make,model,year,price) # Override initialization method in Car class\n",
    "        self.num_doors = num_doors\n",
    "    \n",
    "    def display_info(self): # Override display_info in Car class\n",
    "        super().display_info()\n",
    "        print(\"Number of Doors: {}\".format(self.num_doors))\n",
    "         \n",
    "car=Car('Honda', 'Vezel', '2018','13Mn','4') \n",
    "car.display_info()\n"
   ]
  },
  {
   "cell_type": "code",
   "execution_count": 6,
   "id": "35e369f9",
   "metadata": {},
   "outputs": [
    {
     "name": "stdout",
     "output_type": "stream",
     "text": [
      "Make: Honda  Model: Vezel  Year: 2018  Price: 13000000  Fuel type: Gasoline\n",
      "Make: Harley-Davidson  Model: Sportster  Year: 2021  Price: 10000000  Fuel type: Petrol\n"
     ]
    }
   ],
   "source": [
    "class Vehicle:\n",
    "    def __init__(self, make, model, year, price, fuel_type):\n",
    "        self.make = make\n",
    "        self.model = model\n",
    "        self.year = year\n",
    "        self.price = price\n",
    "        self.fuel_type = fuel_type\n",
    "\n",
    "    def display_info(self):\n",
    "        print(\"Make: {}  Model: {}  Year: {}  Price: {}  Fuel type: {}\"\n",
    "              .format(self.make, self.model, self.year, self.price, self.fuel_type))\n",
    "\n",
    "class Car(Vehicle):\n",
    "    def __init__(self, make, model, year, price, num_doors, fuel_type):\n",
    "        super().__init__(make, model, year, price, fuel_type)\n",
    "        self.num_doors = num_doors\n",
    "        self.fuel_type = \"Gasoline\"\n",
    "\n",
    "class MotorCycle(Vehicle):\n",
    "    def __init__(self, make, model, year, price, fuel_type):\n",
    "        super().__init__(make, model, year, price, fuel_type)\n",
    "        self.fuel_type = \"Petrol\"\n",
    "\n",
    "class Truck(Vehicle):\n",
    "    def __init__(self, make, model, year, price, fuel_type):\n",
    "        super().__init__(make, model, year, price, fuel_type)\n",
    "        self.fuel_type = \"Diesel\"\n",
    "\n",
    "car = Car('Honda', 'Vezel', '2018', 13000000, 4,{})\n",
    "car.display_info()\n",
    "\n",
    "motorcycle = MotorCycle('Harley-Davidson', 'Sportster', '2021', 10000000,{})\n",
    "motorcycle.display_info()"
   ]
  },
  {
   "cell_type": "code",
   "execution_count": 7,
   "id": "341b510b",
   "metadata": {},
   "outputs": [
    {
     "name": "stdout",
     "output_type": "stream",
     "text": [
      "Make: Honda  Model: Vezel  Year: 2018  Price: 1300000  Number of Doors: 4  Fuel type:Gasoline\n",
      "Discounted Price :  1040000.0\n"
     ]
    }
   ],
   "source": [
    "class Vehicle:\n",
    "    def __init__(self,make,model,year,price,fuel_type):\n",
    "        self.make = make\n",
    "        self.model = model\n",
    "        self.year = year\n",
    "        self.price = price\n",
    "        self.fuel_type = fuel_type\n",
    "    def set_discount(self,percentage):\n",
    "        self.discount = percentage\n",
    "    def get_discounted_price(self):\n",
    "        self.updated_price = (100-self.discount)/100 * self.price\n",
    "        return self.updated_price\n",
    "    def display_info(self):\n",
    "        print(\"Make: {}  Model: {}  Year: {}  Price: {}  Number of Doors: {}  Fuel type:{}\".\n",
    "              format(self.make,self.model,self.year,self.price,self.num_doors,self.fuel_type))\n",
    "        \n",
    "class Car(Vehicle):\n",
    "    def __init__(self, make, model, year, price, num_doors, fuel_type):\n",
    "        super().__init__(make, model, year, price,fuel_type)\n",
    "        self.num_doors = num_doors\n",
    "        self.fuel_type = \"Gasoline\"\n",
    "\n",
    "class MotorCycle(Vehicle):\n",
    "    def __init__(self, make, model, year, price):\n",
    "        super().__init__(make, model, year, price)\n",
    "        self.fuel_type = \"Petrol\"\n",
    "        \n",
    "class Truck(Vehicle):\n",
    "    def __init__(self, make, model, year, price):\n",
    "        super().__init__(make, model, year, price)\n",
    "        self.fuel_type = \"Diesel\"\n",
    "\n",
    "car = Car('Honda', 'Vezel', '2018', 1300000, 4, {})\n",
    "car.display_info()\n",
    "car.set_discount(20)\n",
    "new_car_price=car.get_discounted_price()\n",
    "print(\"Discounted Price : \",new_car_price)"
   ]
  },
  {
   "cell_type": "code",
   "execution_count": 8,
   "id": "9db897e9",
   "metadata": {},
   "outputs": [
    {
     "name": "stdout",
     "output_type": "stream",
     "text": [
      "Land\n",
      "Air\n"
     ]
    }
   ],
   "source": [
    "#Polymorphism scenario\n",
    "\n",
    "class Vehicle:\n",
    "    def __init__(self,model,year):\n",
    "        self.model = model\n",
    "        self.year = year\n",
    "        \n",
    "    def transport_modes(self):\n",
    "        print(\"Land\")\n",
    "\n",
    "class Ship(Vehicle):\n",
    "    def transport_modes(self):\n",
    "        print(\"Water\")\n",
    "\n",
    "class Airplane(Vehicle):\n",
    "    def transport_modes(self):\n",
    "        print(\"Air\")\n",
    "\n",
    "class Bicycle(Vehicle):\n",
    "    pass\n",
    "\n",
    "ship = Ship(\"Titanic\",\"1997\") \n",
    "airplane = Airplane(\"Airbus a380\",\"2004\") \n",
    "bicycle = Bicycle(\"Mountainbike GT\",\"1972\")\n",
    "\n",
    "bicycle.transport_modes()\n",
    "airplane.transport_modes()\n"
   ]
  },
  {
   "cell_type": "code",
   "execution_count": 9,
   "id": "2c2ddd5d",
   "metadata": {},
   "outputs": [
    {
     "name": "stdout",
     "output_type": "stream",
     "text": [
      "Vehicle: Car\n",
      "Rental Cost: $\n",
      "Fuel Level: %\n",
      "Vehicle: Motorcycle\n",
      "Rental Cost: $\n",
      "Fuel Level: %\n"
     ]
    }
   ],
   "source": [
    "class Vehicle:\n",
    "    def calculateRentalCost(self):\n",
    "        pass\n",
    "    def checkFuelLevel(self):\n",
    "        pass\n",
    "    def startEngine(self):\n",
    "        pass\n",
    "\n",
    "class Car(Vehicle):\n",
    "    def calculateRentalCost(self): # Implement car-specific rental cost calculation\n",
    "        pass\n",
    "    def checkFuelLevel(self):# Implement car-specific fuel level check\n",
    "        pass\n",
    "    def startEngine(self):# Implement car-specific engine start\n",
    "        pass\n",
    "\n",
    "class Motorcycle(Vehicle):\n",
    "    def calculateRentalCost(self): # Implement motorcycle-specific rental cost calculation\n",
    "        pass\n",
    "    def checkFuelLevel(self): # Implement motorcycle-specific fuel level check\n",
    "        pass\n",
    "    def startEngine(self): # Implement motorcycle-specific engine start\n",
    "        pass\n",
    "\n",
    "#Properties\n",
    "vehicles = [Car(), Motorcycle()]\n",
    "\n",
    "for x in vehicles:\n",
    "    print(\"Vehicle: {}\".format(x.__class__.__name__))\n",
    "    rental_cost = x.calculateRentalCost()\n",
    "    fuel_level = x.checkFuelLevel()\n",
    "    x.startEngine()\n",
    "    print(\"Rental Cost: $\".format(rental_cost))\n",
    "    print(\"Fuel Level:\".format(fuel_level),\"%\")"
   ]
  },
  {
   "cell_type": "code",
   "execution_count": 10,
   "id": "f655ab84",
   "metadata": {},
   "outputs": [],
   "source": [
    "## Q1:COMScDSP231-013 ##"
   ]
  }
 ],
 "metadata": {
  "kernelspec": {
   "display_name": "Python 3 (ipykernel)",
   "language": "python",
   "name": "python3"
  },
  "language_info": {
   "codemirror_mode": {
    "name": "ipython",
    "version": 3
   },
   "file_extension": ".py",
   "mimetype": "text/x-python",
   "name": "python",
   "nbconvert_exporter": "python",
   "pygments_lexer": "ipython3",
   "version": "3.11.5"
  }
 },
 "nbformat": 4,
 "nbformat_minor": 5
}
